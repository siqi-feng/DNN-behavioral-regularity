{
  "cells": [
    {
      "cell_type": "code",
      "execution_count": null,
      "id": "ce34ed71-cfe5-43d7-ae1a-849d305f824f",
      "metadata": {
        "id": "ce34ed71-cfe5-43d7-ae1a-849d305f824f"
      },
      "outputs": [],
      "source": [
        "import pandas as pd\n",
        "import numpy as np\n",
        "import json"
      ]
    },
    {
      "cell_type": "code",
      "source": [
        "# %pip install geopandas"
      ],
      "metadata": {
        "id": "yB6vyNNCvJ0x"
      },
      "id": "yB6vyNNCvJ0x",
      "execution_count": null,
      "outputs": []
    },
    {
      "cell_type": "code",
      "source": [
        "# import geopandas as gpd\n",
        "# from geopandas import GeoDataFrame\n",
        "# from shapely.geometry import Point"
      ],
      "metadata": {
        "id": "MfjKW9BvvRKo"
      },
      "id": "MfjKW9BvvRKo",
      "execution_count": null,
      "outputs": []
    },
    {
      "cell_type": "code",
      "execution_count": null,
      "id": "8121f932-93b6-428c-8286-03ef7b2208c1",
      "metadata": {
        "id": "8121f932-93b6-428c-8286-03ef7b2208c1"
      },
      "outputs": [],
      "source": [
        "from sklearn.impute import KNNImputer\n",
        "from sklearn.preprocessing import StandardScaler\n",
        "from sklearn.model_selection import train_test_split"
      ]
    },
    {
      "cell_type": "code",
      "source": [
        "from google.colab import drive\n",
        "drive.mount('/content/drive')"
      ],
      "metadata": {
        "colab": {
          "base_uri": "https://localhost:8080/"
        },
        "id": "dSoL1-MfjhHx",
        "outputId": "eda87bf2-7bb0-4f5b-9cff-b5977342f52c"
      },
      "id": "dSoL1-MfjhHx",
      "execution_count": null,
      "outputs": [
        {
          "output_type": "stream",
          "name": "stdout",
          "text": [
            "Mounted at /content/drive\n"
          ]
        }
      ]
    },
    {
      "cell_type": "markdown",
      "source": [
        "# Data preprocessing"
      ],
      "metadata": {
        "id": "TA6QFoYfs1R6"
      },
      "id": "TA6QFoYfs1R6"
    },
    {
      "cell_type": "markdown",
      "source": [
        "## Data merging\n",
        "Preprocess data and create a list of reasonable OD pairs."
      ],
      "metadata": {
        "id": "CGAZIRoPrJ33"
      },
      "id": "CGAZIRoPrJ33"
    },
    {
      "cell_type": "code",
      "source": [
        "!ls \"/content/drive/My Drive/CMAP data\""
      ],
      "metadata": {
        "colab": {
          "base_uri": "https://localhost:8080/"
        },
        "id": "Q2HItiS3kqMH",
        "outputId": "e5594c88-6b61-4972-bcc8-edfa6a3daaa7"
      },
      "id": "Q2HItiS3kqMH",
      "execution_count": null,
      "outputs": [
        {
          "output_type": "stream",
          "name": "stdout",
          "text": [
            "chicago.dbf\t\t\tdirections_walking.json\n",
            "chicago.prj\t\t\tdirections_walking_old2.json\n",
            "chicago.shp\t\t\tgps_place.csv\n",
            "chicago.shx\t\t\thousehold.csv\n",
            "directions_bicycling.json\tlocation.csv\n",
            "directions_bicycling_old2.json\tperson.csv\n",
            "directions_driving.json\t\tplace.csv\n",
            "directions_driving_old2.json\tX_normalized_old.csv\n",
            "directions_transit.json\t\tX_unnormalized_old.csv\n",
            "directions_transit_old2.json\n"
          ]
        }
      ]
    },
    {
      "cell_type": "code",
      "execution_count": null,
      "id": "ba04bcd2-24c5-478d-a97f-8281219a404c",
      "metadata": {
        "id": "ba04bcd2-24c5-478d-a97f-8281219a404c"
      },
      "outputs": [],
      "source": [
        "place = pd.read_csv('/content/drive/My Drive/CMAP data/gps_place.csv', low_memory=False)\n",
        "loc = pd.read_csv('/content/drive/My Drive/CMAP data/location.csv', low_memory=False)"
      ]
    },
    {
      "cell_type": "code",
      "execution_count": null,
      "id": "093562d2-0610-485c-b994-8223cceba836",
      "metadata": {
        "id": "093562d2-0610-485c-b994-8223cceba836"
      },
      "outputs": [],
      "source": [
        "pl = place.query('mode_imputed == [1, 2, 3, 4] and travtime > 0 and distance > 0')\n",
        "pl = pl[['sampno', 'perno', 'locno', 'arrtime', 'deptime', 'travtime', 'distance', 'mode_imputed', 'fare', 'pkamt']]\n",
        "l = loc.query('latitude != -9')[['sampno', 'locno', 'latitude', 'longitude']]\n",
        "\n",
        "pl_l = pd.merge(pl, l, left_on=['sampno', 'locno'], right_on=['sampno', 'locno'], how='inner')"
      ]
    },
    {
      "cell_type": "code",
      "execution_count": null,
      "id": "cc76c43e-2b64-48de-b0e9-68ae49cb5ec5",
      "metadata": {
        "id": "cc76c43e-2b64-48de-b0e9-68ae49cb5ec5"
      },
      "outputs": [],
      "source": [
        "pers = pd.read_csv('/content/drive/My Drive/CMAP data/person.csv', low_memory=False)\n",
        "hh = pd.read_csv('/content/drive/My Drive/CMAP data/household.csv', low_memory=False)"
      ]
    },
    {
      "cell_type": "code",
      "execution_count": null,
      "id": "3953387e-6c35-4a45-a928-57c399e0ad3f",
      "metadata": {
        "id": "3953387e-6c35-4a45-a928-57c399e0ad3f"
      },
      "outputs": [],
      "source": [
        "p = pers.query('age > 0')[['sampno', 'perno', 'age']]\n",
        "h = hh.query('hhinc > 0')[['sampno', 'hhveh', 'hhinc']]\n",
        "\n",
        "pers_hh = pd.merge(p, h, left_on='sampno', right_on='sampno', how='inner')"
      ]
    },
    {
      "cell_type": "code",
      "execution_count": null,
      "id": "87c51e1e-2b19-4035-9cfe-492c6c33d47d",
      "metadata": {
        "id": "87c51e1e-2b19-4035-9cfe-492c6c33d47d"
      },
      "outputs": [],
      "source": [
        "data = pd.merge(pers_hh, pl_l, left_on=['sampno', 'perno'], right_on=['sampno', 'perno'], how='inner')\n",
        "data = data.rename(columns={'latitude': 'arr_lat', 'longitude': 'arr_lon'})"
      ]
    },
    {
      "cell_type": "code",
      "execution_count": null,
      "id": "cc15bbee-1539-4615-9efb-727405ec0394",
      "metadata": {
        "id": "cc15bbee-1539-4615-9efb-727405ec0394"
      },
      "outputs": [],
      "source": [
        "for i in range(1, len(data)):\n",
        "    if data.loc[i-1, 'sampno'] == data.loc[i, 'sampno'] and data.loc[i-1, 'perno'] == data.loc[i, 'perno']:\n",
        "        data.loc[i, 'dep_lat'] = data.loc[i-1, 'arr_lat']\n",
        "        data.loc[i, 'dep_lon'] = data.loc[i-1, 'arr_lon']\n",
        "    else:\n",
        "        data.loc[i, 'dep_lat'] = np.nan\n",
        "        data.loc[i, 'dep_lon'] = np.nan"
      ]
    },
    {
      "cell_type": "code",
      "execution_count": null,
      "id": "a551fce2-da18-413f-a203-1c4902d7acb7",
      "metadata": {
        "id": "a551fce2-da18-413f-a203-1c4902d7acb7"
      },
      "outputs": [],
      "source": [
        "df = data.query('dep_lat != arr_lat and dep_lon != arr_lon').dropna().reset_index(drop=True)"
      ]
    },
    {
      "cell_type": "code",
      "execution_count": null,
      "id": "450f3c6d-6d34-4f37-bf3c-7be56730e116",
      "metadata": {
        "colab": {
          "base_uri": "https://localhost:8080/"
        },
        "id": "450f3c6d-6d34-4f37-bf3c-7be56730e116",
        "outputId": "f87506b6-51fd-41f1-a0c6-d76d5ddbb141"
      },
      "outputs": [
        {
          "output_type": "execute_result",
          "data": {
            "text/plain": [
              "26363"
            ]
          },
          "metadata": {},
          "execution_count": 14
        }
      ],
      "source": [
        "od = []\n",
        "\n",
        "for i in range(len(df)):\n",
        "    pair = (str(df.loc[i, 'dep_lat'])+','+str(df.loc[i, 'dep_lon']), str(df.loc[i, 'arr_lat'])+','+str(df.loc[i, 'arr_lon']))\n",
        "    if pair not in od:\n",
        "        od.append(pair)\n",
        "\n",
        "len(od)"
      ]
    },
    {
      "cell_type": "markdown",
      "source": [
        "## Plotting data coverage\n",
        "Plot data coverage of the first 5000 OD pairs."
      ],
      "metadata": {
        "id": "X0sIJETrqzwP"
      },
      "id": "X0sIJETrqzwP"
    },
    {
      "cell_type": "code",
      "execution_count": null,
      "id": "0d0a41dc-5c9f-427d-91b3-e93d6e165555",
      "metadata": {
        "id": "0d0a41dc-5c9f-427d-91b3-e93d6e165555"
      },
      "outputs": [],
      "source": [
        "# dep_lat = [float(od[i][0].split(',')[0]) for i in range(len(od))]\n",
        "# dep_lon = [float(od[i][0].split(',')[1]) for i in range(len(od))]\n",
        "# arr_lat = [float(od[i][1].split(',')[0]) for i in range(len(od))]\n",
        "# arr_lon = [float(od[i][1].split(',')[1]) for i in range(len(od))]\n",
        "\n",
        "# od_smp = od[:5000]\n",
        "# dep_lat_smp = [float(od_smp[i][0].split(',')[0]) for i in range(5000)]\n",
        "# dep_lon_smp = [float(od_smp[i][0].split(',')[1]) for i in range(5000)]\n",
        "# arr_lat_smp = [float(od_smp[i][1].split(',')[0]) for i in range(5000)]\n",
        "# arr_lon_smp = [float(od_smp[i][1].split(',')[1]) for i in range(5000)]"
      ]
    },
    {
      "cell_type": "code",
      "execution_count": null,
      "id": "3b31908f-03c3-4089-8746-5d1a2f2e3c13",
      "metadata": {
        "id": "3b31908f-03c3-4089-8746-5d1a2f2e3c13"
      },
      "outputs": [],
      "source": [
        "# def od_plot_all(lon, lat, tag, color):\n",
        "#     geo = [Point(xy) for xy in zip(lon, lat)]\n",
        "#     gdf = GeoDataFrame(geometry=geo)\n",
        "#     gdf.crs = 'epsg:4326'\n",
        "    \n",
        "#     data = gpd.read_file(gpd.datasets.get_path('naturalearth_lowres'))\n",
        "#     ax = data.plot(figsize=(8, 7), color='gray', edgecolor='black', alpha=.3)\n",
        "#     ax.set_xlim(-126, -66)\n",
        "#     ax.set_ylim(24, 50)\n",
        "#     gdf.plot(ax=ax, marker='.', color=color, alpha=.3, markersize=10, label=tag)\n",
        "#     ax.set_xlabel('Longitude')\n",
        "#     ax.set_ylabel('Latitude')\n",
        "#     ax.legend()"
      ]
    },
    {
      "cell_type": "code",
      "execution_count": null,
      "id": "869d4f3d-5675-4630-9727-6eb8caff8fa0",
      "metadata": {
        "id": "869d4f3d-5675-4630-9727-6eb8caff8fa0"
      },
      "outputs": [],
      "source": [
        "# od_plot_all(dep_lon_smp, dep_lat_smp, 'Origin (Sample)', 'red')"
      ]
    },
    {
      "cell_type": "code",
      "execution_count": null,
      "id": "4f279a34-457a-4e24-8a9f-0f2b6e5326be",
      "metadata": {
        "id": "4f279a34-457a-4e24-8a9f-0f2b6e5326be"
      },
      "outputs": [],
      "source": [
        "# def od_plot(lon, lat, tag, color):\n",
        "#     geo = [Point(xy) for xy in zip(lon, lat)]\n",
        "#     gdf = GeoDataFrame(geometry=geo)\n",
        "#     gdf.crs = 'epsg:4326'\n",
        "    \n",
        "#     data = gpd.read_file('/content/drive/My Drive/CMAP data/chicago.shp')\n",
        "#     ax = data.plot(figsize=(8, 7), color='gray', edgecolor='black', alpha=.3)\n",
        "#     ax.set_xlim(-88, -87.4)\n",
        "#     ax.set_ylim(41.6, 42.1)\n",
        "#     gdf.plot(ax=ax, marker='.', color=color, alpha=.3, markersize=10, label=tag)\n",
        "#     ax.set_xlabel('Longitude')\n",
        "#     ax.set_ylabel('Latitude')\n",
        "#     ax.legend()"
      ]
    },
    {
      "cell_type": "code",
      "execution_count": null,
      "id": "bc090d23-c9e5-44b3-893c-4a5caa08afb3",
      "metadata": {
        "id": "bc090d23-c9e5-44b3-893c-4a5caa08afb3"
      },
      "outputs": [],
      "source": [
        "# od_plot(dep_lon_smp, dep_lat_smp, 'Origin (Sample)', 'red')\n",
        "# od_plot(arr_lon_smp, arr_lat_smp, 'Destination (Sample)', 'green')"
      ]
    },
    {
      "cell_type": "code",
      "execution_count": null,
      "id": "37d8ec84-b56d-43f8-aec2-af43b5d9e643",
      "metadata": {
        "id": "37d8ec84-b56d-43f8-aec2-af43b5d9e643"
      },
      "outputs": [],
      "source": [
        "# od_plot(dep_lon, dep_lat, 'Origin', 'red')\n",
        "# od_plot(arr_lon, arr_lat, 'Destination', 'green')"
      ]
    },
    {
      "cell_type": "markdown",
      "id": "47838b74-24a5-4c0f-804e-6b50012b2eed",
      "metadata": {
        "id": "47838b74-24a5-4c0f-804e-6b50012b2eed"
      },
      "source": [
        "# Data completion"
      ]
    },
    {
      "cell_type": "markdown",
      "source": [
        "## Google Directions API\n",
        "Use Google API to extract distances and durations for the first 5000 OD pairs."
      ],
      "metadata": {
        "id": "aGANWJa5rY5J"
      },
      "id": "aGANWJa5rY5J"
    },
    {
      "cell_type": "code",
      "source": [
        "# usr_key_google = ''\n",
        "# txt = []\n",
        "\n",
        "# for i in range(5000):\n",
        "#     if i % 100 == 0:\n",
        "#         print(f'Ite = {i}')\n",
        "#     o_coor = od[i][0]\n",
        "#     d_coor = od[i][1]\n",
        "#     url = 'https://maps.googleapis.com/maps/api/directions/json?' + \\\n",
        "#           'origin=' + o_coor + '&destination=' + d_coor + \\\n",
        "#           '&key=' + usr_key_google + \\\n",
        "#           '&mode=walking'\n",
        "#     res = requests.get(url)\n",
        "#     text = json.loads(res.content)\n",
        "#     txt.append(text)\n",
        "\n",
        "# with open('directions_walking.json', 'a') as f:\n",
        "#     json.dump(txt, f, indent=2)"
      ],
      "metadata": {
        "id": "PZ-JIMsvtzYD"
      },
      "id": "PZ-JIMsvtzYD",
      "execution_count": null,
      "outputs": []
    },
    {
      "cell_type": "code",
      "execution_count": null,
      "id": "19df5c58-effb-4072-85f7-cb933c5a35c5",
      "metadata": {
        "id": "19df5c58-effb-4072-85f7-cb933c5a35c5"
      },
      "outputs": [],
      "source": [
        "with open('/content/drive/My Drive/CMAP data/directions_driving.json', 'r') as f:\n",
        "    data1 = json.load(f)\n",
        "txt1 = data1\n",
        "\n",
        "with open('/content/drive/My Drive/CMAP data/directions_walking.json', 'r') as f:\n",
        "    data2 = json.load(f)\n",
        "txt2 = data2\n",
        "\n",
        "with open('/content/drive/My Drive/CMAP data/directions_transit.json', 'r') as f:\n",
        "    data3 = json.load(f)\n",
        "txt3 = data3\n",
        "\n",
        "with open('/content/drive/My Drive/CMAP data/directions_bicycling.json', 'r') as f:\n",
        "    data4 = json.load(f)\n",
        "txt4 = data4"
      ]
    },
    {
      "cell_type": "code",
      "execution_count": null,
      "id": "3ce3733a-f8cd-4f51-a046-b86ca031fe04",
      "metadata": {
        "id": "3ce3733a-f8cd-4f51-a046-b86ca031fe04"
      },
      "outputs": [],
      "source": [
        "dt1, tt1 = [], []\n",
        "dt2, tt2 = [], []\n",
        "dt3, tt3 = [], []\n",
        "dt4, tt4 = [], []\n",
        "\n",
        "for i in range(5000):\n",
        "    try:\n",
        "        dt1.append(txt1[i]['routes'][0]['legs'][0]['distance']['value'] / 1609)\n",
        "        tt1.append(txt1[i]['routes'][0]['legs'][0]['duration']['value'] / 60)\n",
        "    except:\n",
        "        dt1.append(np.nan)\n",
        "        tt1.append(np.nan)\n",
        "    try:\n",
        "        dt2.append(txt2[i]['routes'][0]['legs'][0]['distance']['value'] / 1609)\n",
        "        tt2.append(txt2[i]['routes'][0]['legs'][0]['duration']['value'] / 60)\n",
        "    except:\n",
        "        dt2.append(np.nan)\n",
        "        tt2.append(np.nan)\n",
        "    try:\n",
        "        dt3.append(txt3[i]['routes'][0]['legs'][0]['distance']['value'] / 1609)\n",
        "        tt3.append(txt3[i]['routes'][0]['legs'][0]['duration']['value'] / 60)\n",
        "    except:\n",
        "        dt3.append(np.nan)\n",
        "        tt3.append(np.nan)\n",
        "    try:\n",
        "        dt4.append(txt4[i]['routes'][0]['legs'][0]['distance']['value'] / 1609)\n",
        "        tt4.append(txt4[i]['routes'][0]['legs'][0]['duration']['value'] / 60)\n",
        "    except:\n",
        "        dt4.append(np.nan)\n",
        "        tt4.append(np.nan)"
      ]
    },
    {
      "cell_type": "code",
      "execution_count": null,
      "id": "39f9559b-87c1-4f47-918b-011493088a9d",
      "metadata": {
        "id": "39f9559b-87c1-4f47-918b-011493088a9d"
      },
      "outputs": [],
      "source": [
        "for i in df.index:\n",
        "    pair = (str(df.loc[i, 'dep_lat'])+','+str(df.loc[i, 'dep_lon']), str(df.loc[i, 'arr_lat'])+','+str(df.loc[i, 'arr_lon']))\n",
        "    idx = od.index(pair)\n",
        "    try:\n",
        "        df.loc[i, 'dist_auto'] = dt1[idx]\n",
        "        df.loc[i, 'time_auto'] = tt1[idx]\n",
        "    except:\n",
        "        df.loc[i, 'dist_auto'] = np.nan\n",
        "        df.loc[i, 'time_auto'] = np.nan\n",
        "    try:\n",
        "        df.loc[i, 'dist_walk'] = dt2[idx]\n",
        "        df.loc[i, 'time_walk'] = tt2[idx]\n",
        "    except:\n",
        "        df.loc[i, 'dist_walk'] = np.nan\n",
        "        df.loc[i, 'time_walk'] = np.nan\n",
        "    try:\n",
        "        df.loc[i, 'dist_train'] = dt3[idx]\n",
        "        df.loc[i, 'time_train'] = tt3[idx]\n",
        "    except:\n",
        "        df.loc[i, 'dist_train'] = np.nan\n",
        "        df.loc[i, 'time_train'] = np.nan\n",
        "    try:\n",
        "        df.loc[i, 'dist_bike'] = dt4[idx]\n",
        "        df.loc[i, 'time_bike'] = tt4[idx]\n",
        "    except:\n",
        "        df.loc[i, 'dist_bike'] = np.nan\n",
        "        df.loc[i, 'time_bike'] = np.nan"
      ]
    },
    {
      "cell_type": "markdown",
      "source": [
        "We find that in many cases, OD distances in the CMAP data are very different from what Google API provides. Thus, we calculate the great-circle distance for all OD pairs and study only \"reasonable\" trips."
      ],
      "metadata": {
        "id": "9h5komjqsRT8"
      },
      "id": "9h5komjqsRT8"
    },
    {
      "cell_type": "code",
      "source": [
        "from geopy import distance\n",
        "\n",
        "df['dist'] = [distance.distance((df.loc[i, 'dep_lat'], df.loc[i, 'dep_lon']),\n",
        "                                (df.loc[i, 'arr_lat'], df.loc[i, 'arr_lon'])).miles for i in range(len(df))]\n",
        "df1 = df.query('dist <= 30').copy()\n",
        "df1.shape"
      ],
      "metadata": {
        "colab": {
          "base_uri": "https://localhost:8080/"
        },
        "id": "RmoxnA2vblzy",
        "outputId": "fc627929-8a6b-4bc0-ef3e-45b838105b38"
      },
      "id": "RmoxnA2vblzy",
      "execution_count": null,
      "outputs": [
        {
          "output_type": "execute_result",
          "data": {
            "text/plain": [
              "(33404, 26)"
            ]
          },
          "metadata": {},
          "execution_count": 18
        }
      ]
    },
    {
      "cell_type": "code",
      "execution_count": null,
      "id": "c98dfea3-410f-4892-bfda-687eee8bd7f4",
      "metadata": {
        "id": "c98dfea3-410f-4892-bfda-687eee8bd7f4"
      },
      "outputs": [],
      "source": [
        "place1 = pd.read_csv('/content/drive/My Drive/CMAP data/place.csv', low_memory=False)\n",
        "\n",
        "df2 = pd.merge(df1, place1[['sampno', 'perno', 'locno', 'plaza_total']].drop_duplicates(subset=['sampno', 'perno', 'locno']),\n",
        "               left_on=['sampno', 'perno', 'locno'], right_on=['sampno', 'perno', 'locno'], how='left')"
      ]
    },
    {
      "cell_type": "code",
      "execution_count": null,
      "id": "e59ac70c-e27c-4ce6-bc94-f9274e672c97",
      "metadata": {
        "id": "e59ac70c-e27c-4ce6-bc94-f9274e672c97"
      },
      "outputs": [],
      "source": [
        "# Deal with transit and driving costs\n",
        "df2['cost_train'] = df2['fare']\n",
        "df2.loc[df2['mode_imputed'].isin([1, 2, 4]), 'cost_train'] = 0\n",
        "df2.loc[df2['cost_train'] <= 0, 'cost_train'] = np.nan\n",
        "\n",
        "df2['cost_parking'] = df2['pkamt']\n",
        "df2.loc[df2['mode_imputed'].isin([2, 3, 4]), 'cost_parking'] = 0\n",
        "df2.loc[(df2['cost_parking'] <= 0) | (df2['cost_parking'] > 50), 'cost_parking'] = np.nan\n",
        "\n",
        "df2['cost_toll'] = df2['plaza_total']\n",
        "df2.loc[df2['mode_imputed'].isin([2, 3, 4]), 'cost_toll'] = 0\n",
        "df2.loc[df2['cost_toll'] < 0, 'cost_toll'] = np.nan"
      ]
    },
    {
      "cell_type": "markdown",
      "id": "42575327-d711-403e-ab1f-494603aa6b8b",
      "metadata": {
        "id": "42575327-d711-403e-ab1f-494603aa6b8b"
      },
      "source": [
        "## Data imputation\n",
        "Perform the $K$-nearest neighbors algorithm on the missing data, and finally export the processed dataset."
      ]
    },
    {
      "cell_type": "code",
      "execution_count": null,
      "id": "77c5edac-1a99-4f62-bb26-f3ca32426033",
      "metadata": {
        "id": "77c5edac-1a99-4f62-bb26-f3ca32426033"
      },
      "outputs": [],
      "source": [
        "x = df2[['travtime', 'distance', 'dist_auto', 'time_auto', 'dist_walk', 'time_walk', 'dist_train', 'time_train',\n",
        "         'dist_bike', 'time_bike', 'cost_train', 'cost_parking', 'cost_toll']]\n",
        "imputer = KNNImputer(n_neighbors=6, weights='uniform')\n",
        "x_imputed = imputer.fit_transform(x)"
      ]
    },
    {
      "cell_type": "code",
      "execution_count": null,
      "id": "9fc8bfd6-9bd1-4e77-bf77-6893f6a4cea7",
      "metadata": {
        "id": "9fc8bfd6-9bd1-4e77-bf77-6893f6a4cea7"
      },
      "outputs": [],
      "source": [
        "df2[['travtime', 'distance', 'dist_auto', 'time_auto', 'dist_walk', 'time_walk', 'dist_train', 'time_train',\n",
        "     'dist_bike', 'time_bike', 'cost_train', 'cost_parking', 'cost_toll']] = x_imputed\n",
        "df2['cost_auto'] = df2['cost_toll'] + df2['cost_parking']"
      ]
    },
    {
      "cell_type": "code",
      "source": [
        "df2[['dist_auto', 'time_auto', 'dist_walk', 'time_walk', 'dist_train', 'time_train',\n",
        "     'dist_bike', 'time_bike', 'cost_train', 'cost_auto']].describe()"
      ],
      "metadata": {
        "colab": {
          "base_uri": "https://localhost:8080/",
          "height": 300
        },
        "id": "IUskYX6ZlhPi",
        "outputId": "4958c60b-0ef4-42c7-c9f6-2c0a49604c8a"
      },
      "id": "IUskYX6ZlhPi",
      "execution_count": null,
      "outputs": [
        {
          "output_type": "execute_result",
          "data": {
            "text/plain": [
              "          dist_auto     time_auto     dist_walk     time_walk    dist_train  \\\n",
              "count  33404.000000  33404.000000  33404.000000  33404.000000  33404.000000   \n",
              "mean       6.450315     13.817148      5.662759    113.883035      8.018903   \n",
              "std        6.408127      8.125875      5.676216    113.681337      8.893555   \n",
              "min        0.139838      0.550000      0.139838      3.183333      0.139838   \n",
              "25%        2.243837      8.100000      1.922105     38.827778      2.126683   \n",
              "50%        4.249016     11.555556      3.790087     76.458333      4.764346   \n",
              "75%        8.019500     17.272222      7.110421    142.958333     10.255542   \n",
              "max       45.170292     56.666667     40.921069    801.083333    135.200124   \n",
              "\n",
              "         time_train     dist_bike     time_bike    cost_train     cost_auto  \n",
              "count  33404.000000  33404.000000  33404.000000  33404.000000  33404.000000  \n",
              "mean      56.845839      6.276666     34.856698      2.386652      8.746128  \n",
              "std       51.349741      6.410197     34.064499      0.751449      5.806160  \n",
              "min        3.183333      0.139838      1.116667      0.250000      0.250000  \n",
              "25%       26.688889      2.135799     12.798611      1.833333      3.800000  \n",
              "50%       40.883333      4.088668     23.172222      2.208333      6.850000  \n",
              "75%       66.031250      7.805055     42.747222      2.541667     13.595833  \n",
              "max      741.083333     45.051585    246.150000     10.000000     50.000000  "
            ],
            "text/html": [
              "\n",
              "  <div id=\"df-85a86c3e-8c4c-487a-bd41-36be26b6d92d\">\n",
              "    <div class=\"colab-df-container\">\n",
              "      <div>\n",
              "<style scoped>\n",
              "    .dataframe tbody tr th:only-of-type {\n",
              "        vertical-align: middle;\n",
              "    }\n",
              "\n",
              "    .dataframe tbody tr th {\n",
              "        vertical-align: top;\n",
              "    }\n",
              "\n",
              "    .dataframe thead th {\n",
              "        text-align: right;\n",
              "    }\n",
              "</style>\n",
              "<table border=\"1\" class=\"dataframe\">\n",
              "  <thead>\n",
              "    <tr style=\"text-align: right;\">\n",
              "      <th></th>\n",
              "      <th>dist_auto</th>\n",
              "      <th>time_auto</th>\n",
              "      <th>dist_walk</th>\n",
              "      <th>time_walk</th>\n",
              "      <th>dist_train</th>\n",
              "      <th>time_train</th>\n",
              "      <th>dist_bike</th>\n",
              "      <th>time_bike</th>\n",
              "      <th>cost_train</th>\n",
              "      <th>cost_auto</th>\n",
              "    </tr>\n",
              "  </thead>\n",
              "  <tbody>\n",
              "    <tr>\n",
              "      <th>count</th>\n",
              "      <td>33404.000000</td>\n",
              "      <td>33404.000000</td>\n",
              "      <td>33404.000000</td>\n",
              "      <td>33404.000000</td>\n",
              "      <td>33404.000000</td>\n",
              "      <td>33404.000000</td>\n",
              "      <td>33404.000000</td>\n",
              "      <td>33404.000000</td>\n",
              "      <td>33404.000000</td>\n",
              "      <td>33404.000000</td>\n",
              "    </tr>\n",
              "    <tr>\n",
              "      <th>mean</th>\n",
              "      <td>6.450315</td>\n",
              "      <td>13.817148</td>\n",
              "      <td>5.662759</td>\n",
              "      <td>113.883035</td>\n",
              "      <td>8.018903</td>\n",
              "      <td>56.845839</td>\n",
              "      <td>6.276666</td>\n",
              "      <td>34.856698</td>\n",
              "      <td>2.386652</td>\n",
              "      <td>8.746128</td>\n",
              "    </tr>\n",
              "    <tr>\n",
              "      <th>std</th>\n",
              "      <td>6.408127</td>\n",
              "      <td>8.125875</td>\n",
              "      <td>5.676216</td>\n",
              "      <td>113.681337</td>\n",
              "      <td>8.893555</td>\n",
              "      <td>51.349741</td>\n",
              "      <td>6.410197</td>\n",
              "      <td>34.064499</td>\n",
              "      <td>0.751449</td>\n",
              "      <td>5.806160</td>\n",
              "    </tr>\n",
              "    <tr>\n",
              "      <th>min</th>\n",
              "      <td>0.139838</td>\n",
              "      <td>0.550000</td>\n",
              "      <td>0.139838</td>\n",
              "      <td>3.183333</td>\n",
              "      <td>0.139838</td>\n",
              "      <td>3.183333</td>\n",
              "      <td>0.139838</td>\n",
              "      <td>1.116667</td>\n",
              "      <td>0.250000</td>\n",
              "      <td>0.250000</td>\n",
              "    </tr>\n",
              "    <tr>\n",
              "      <th>25%</th>\n",
              "      <td>2.243837</td>\n",
              "      <td>8.100000</td>\n",
              "      <td>1.922105</td>\n",
              "      <td>38.827778</td>\n",
              "      <td>2.126683</td>\n",
              "      <td>26.688889</td>\n",
              "      <td>2.135799</td>\n",
              "      <td>12.798611</td>\n",
              "      <td>1.833333</td>\n",
              "      <td>3.800000</td>\n",
              "    </tr>\n",
              "    <tr>\n",
              "      <th>50%</th>\n",
              "      <td>4.249016</td>\n",
              "      <td>11.555556</td>\n",
              "      <td>3.790087</td>\n",
              "      <td>76.458333</td>\n",
              "      <td>4.764346</td>\n",
              "      <td>40.883333</td>\n",
              "      <td>4.088668</td>\n",
              "      <td>23.172222</td>\n",
              "      <td>2.208333</td>\n",
              "      <td>6.850000</td>\n",
              "    </tr>\n",
              "    <tr>\n",
              "      <th>75%</th>\n",
              "      <td>8.019500</td>\n",
              "      <td>17.272222</td>\n",
              "      <td>7.110421</td>\n",
              "      <td>142.958333</td>\n",
              "      <td>10.255542</td>\n",
              "      <td>66.031250</td>\n",
              "      <td>7.805055</td>\n",
              "      <td>42.747222</td>\n",
              "      <td>2.541667</td>\n",
              "      <td>13.595833</td>\n",
              "    </tr>\n",
              "    <tr>\n",
              "      <th>max</th>\n",
              "      <td>45.170292</td>\n",
              "      <td>56.666667</td>\n",
              "      <td>40.921069</td>\n",
              "      <td>801.083333</td>\n",
              "      <td>135.200124</td>\n",
              "      <td>741.083333</td>\n",
              "      <td>45.051585</td>\n",
              "      <td>246.150000</td>\n",
              "      <td>10.000000</td>\n",
              "      <td>50.000000</td>\n",
              "    </tr>\n",
              "  </tbody>\n",
              "</table>\n",
              "</div>\n",
              "      <button class=\"colab-df-convert\" onclick=\"convertToInteractive('df-85a86c3e-8c4c-487a-bd41-36be26b6d92d')\"\n",
              "              title=\"Convert this dataframe to an interactive table.\"\n",
              "              style=\"display:none;\">\n",
              "        \n",
              "  <svg xmlns=\"http://www.w3.org/2000/svg\" height=\"24px\"viewBox=\"0 0 24 24\"\n",
              "       width=\"24px\">\n",
              "    <path d=\"M0 0h24v24H0V0z\" fill=\"none\"/>\n",
              "    <path d=\"M18.56 5.44l.94 2.06.94-2.06 2.06-.94-2.06-.94-.94-2.06-.94 2.06-2.06.94zm-11 1L8.5 8.5l.94-2.06 2.06-.94-2.06-.94L8.5 2.5l-.94 2.06-2.06.94zm10 10l.94 2.06.94-2.06 2.06-.94-2.06-.94-.94-2.06-.94 2.06-2.06.94z\"/><path d=\"M17.41 7.96l-1.37-1.37c-.4-.4-.92-.59-1.43-.59-.52 0-1.04.2-1.43.59L10.3 9.45l-7.72 7.72c-.78.78-.78 2.05 0 2.83L4 21.41c.39.39.9.59 1.41.59.51 0 1.02-.2 1.41-.59l7.78-7.78 2.81-2.81c.8-.78.8-2.07 0-2.86zM5.41 20L4 18.59l7.72-7.72 1.47 1.35L5.41 20z\"/>\n",
              "  </svg>\n",
              "      </button>\n",
              "      \n",
              "  <style>\n",
              "    .colab-df-container {\n",
              "      display:flex;\n",
              "      flex-wrap:wrap;\n",
              "      gap: 12px;\n",
              "    }\n",
              "\n",
              "    .colab-df-convert {\n",
              "      background-color: #E8F0FE;\n",
              "      border: none;\n",
              "      border-radius: 50%;\n",
              "      cursor: pointer;\n",
              "      display: none;\n",
              "      fill: #1967D2;\n",
              "      height: 32px;\n",
              "      padding: 0 0 0 0;\n",
              "      width: 32px;\n",
              "    }\n",
              "\n",
              "    .colab-df-convert:hover {\n",
              "      background-color: #E2EBFA;\n",
              "      box-shadow: 0px 1px 2px rgba(60, 64, 67, 0.3), 0px 1px 3px 1px rgba(60, 64, 67, 0.15);\n",
              "      fill: #174EA6;\n",
              "    }\n",
              "\n",
              "    [theme=dark] .colab-df-convert {\n",
              "      background-color: #3B4455;\n",
              "      fill: #D2E3FC;\n",
              "    }\n",
              "\n",
              "    [theme=dark] .colab-df-convert:hover {\n",
              "      background-color: #434B5C;\n",
              "      box-shadow: 0px 1px 3px 1px rgba(0, 0, 0, 0.15);\n",
              "      filter: drop-shadow(0px 1px 2px rgba(0, 0, 0, 0.3));\n",
              "      fill: #FFFFFF;\n",
              "    }\n",
              "  </style>\n",
              "\n",
              "      <script>\n",
              "        const buttonEl =\n",
              "          document.querySelector('#df-85a86c3e-8c4c-487a-bd41-36be26b6d92d button.colab-df-convert');\n",
              "        buttonEl.style.display =\n",
              "          google.colab.kernel.accessAllowed ? 'block' : 'none';\n",
              "\n",
              "        async function convertToInteractive(key) {\n",
              "          const element = document.querySelector('#df-85a86c3e-8c4c-487a-bd41-36be26b6d92d');\n",
              "          const dataTable =\n",
              "            await google.colab.kernel.invokeFunction('convertToInteractive',\n",
              "                                                     [key], {});\n",
              "          if (!dataTable) return;\n",
              "\n",
              "          const docLinkHtml = 'Like what you see? Visit the ' +\n",
              "            '<a target=\"_blank\" href=https://colab.research.google.com/notebooks/data_table.ipynb>data table notebook</a>'\n",
              "            + ' to learn more about interactive tables.';\n",
              "          element.innerHTML = '';\n",
              "          dataTable['output_type'] = 'display_data';\n",
              "          await google.colab.output.renderOutput(dataTable, element);\n",
              "          const docLink = document.createElement('div');\n",
              "          docLink.innerHTML = docLinkHtml;\n",
              "          element.appendChild(docLink);\n",
              "        }\n",
              "      </script>\n",
              "    </div>\n",
              "  </div>\n",
              "  "
            ]
          },
          "metadata": {},
          "execution_count": 23
        }
      ]
    },
    {
      "cell_type": "markdown",
      "source": [
        "## Data export"
      ],
      "metadata": {
        "id": "ABPTeVpI9p0D"
      },
      "id": "ABPTeVpI9p0D"
    },
    {
      "cell_type": "code",
      "execution_count": null,
      "id": "36a8fc51-df25-4d25-a389-955a4b93f204",
      "metadata": {
        "colab": {
          "base_uri": "https://localhost:8080/"
        },
        "id": "36a8fc51-df25-4d25-a389-955a4b93f204",
        "outputId": "830e97b4-bbb5-44c5-d3a7-be2613ac18c5"
      },
      "outputs": [
        {
          "output_type": "stream",
          "name": "stdout",
          "text": [
            "(33404, 13)\n"
          ]
        }
      ],
      "source": [
        "X = df2[['age', 'hhveh', 'hhinc', 'dist_auto', 'time_auto', 'dist_walk', 'time_walk', 'dist_train', 'time_train',\n",
        "         'dist_bike', 'time_bike', 'cost_train', 'cost_auto']]\n",
        "X.to_csv('/content/drive/My Drive/CMAP data/X_unnormalized.csv')\n",
        "y = df2['mode_imputed'].add(-1)\n",
        "y.to_csv('/content/drive/My Drive/CMAP data/y.csv')\n",
        "\n",
        "X1 = pd.DataFrame(StandardScaler().fit_transform(X), columns=X.columns)\n",
        "X1.to_csv('/content/drive/My Drive/CMAP data/X_normalized.csv')\n",
        "print(X.shape)"
      ]
    }
  ],
  "metadata": {
    "kernelspec": {
      "display_name": "Python 3 (ipykernel)",
      "language": "python",
      "name": "python3"
    },
    "language_info": {
      "codemirror_mode": {
        "name": "ipython",
        "version": 3
      },
      "file_extension": ".py",
      "mimetype": "text/x-python",
      "name": "python",
      "nbconvert_exporter": "python",
      "pygments_lexer": "ipython3",
      "version": "3.9.12"
    },
    "colab": {
      "provenance": [],
      "toc_visible": true
    },
    "accelerator": "GPU"
  },
  "nbformat": 4,
  "nbformat_minor": 5
}